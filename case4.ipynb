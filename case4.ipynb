{
  "nbformat": 4,
  "nbformat_minor": 0,
  "metadata": {
    "colab": {
      "provenance": [],
      "authorship_tag": "ABX9TyM1Tjj5T+cIZ7gW3NJIUnOw",
      "include_colab_link": true
    },
    "kernelspec": {
      "name": "python3",
      "display_name": "Python 3"
    },
    "language_info": {
      "name": "python"
    }
  },
  "cells": [
    {
      "cell_type": "markdown",
      "metadata": {
        "id": "view-in-github",
        "colab_type": "text"
      },
      "source": [
        "<a href=\"https://colab.research.google.com/github/fredvasconcelos/Escola_DNC_Desafios/blob/main/case4.ipynb\" target=\"_parent\"><img src=\"https://colab.research.google.com/assets/colab-badge.svg\" alt=\"Open In Colab\"/></a>"
      ]
    },
    {
      "cell_type": "markdown",
      "source": [
        "Análise de dados - Case 4 \n",
        "\n",
        "Descrição do Problema"
      ],
      "metadata": {
        "id": "XwXohfqr8VSz"
      }
    },
    {
      "cell_type": "code",
      "source": [
        "# Carregamento dos pacotes\n",
        "\n",
        "import pandas as pd\n",
        "import numpy as np\n",
        "import seaborn as sns\n",
        "import matplotlib.pyplot as plt\n"
      ],
      "metadata": {
        "id": "1n8aQrU49C_i"
      },
      "execution_count": null,
      "outputs": []
    }
  ]
}